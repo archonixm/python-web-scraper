{
 "cells": [
  {
   "cell_type": "code",
   "execution_count": 1,
   "metadata": {},
   "outputs": [],
   "source": [
    "import pandas as pd\n",
    "from sqlalchemy import create_engine\n",
    "from secrets import settings"
   ]
  },
  {
   "cell_type": "code",
   "execution_count": 2,
   "metadata": {},
   "outputs": [],
   "source": [
    "engine = create_engine(settings['skills_db2'])"
   ]
  },
  {
   "cell_type": "code",
   "execution_count": 9,
   "metadata": {},
   "outputs": [
    {
     "name": "stdout",
     "output_type": "stream",
     "text": [
      "['Accounting/Finance', 'Audit and Financial/Business Controls', 'Business Development', 'Chemical Engineering', 'Civil Engineering', 'Corporate Affairs/Communications', 'Corporate Development', 'Customer Support/Operations', 'Data Science and Business Intelligence', 'General Management and Administration', 'Human Resources', 'Information Technology', 'Legal', 'Manufacturing/Operations', 'Marketing', 'Mechanical Engineering', 'Product Development Support', 'Project/Program Management', 'Research Science', 'Risk Management', 'Sales', 'Supply Chain and Logistics', 'Technical Customer Support', 'Training']\n"
     ]
    },
    {
     "data": {
      "text/plain": [
       "24"
      ]
     },
     "execution_count": 9,
     "metadata": {},
     "output_type": "execute_result"
    }
   ],
   "source": [
    "df_j = pd.read_sql_query('select * from \"Job\"', engine)\n",
    "jobs = df_j['Jobs'].tolist()\n",
    "print(jobs)\n",
    "len(jobs)"
   ]
  },
  {
   "cell_type": "code",
   "execution_count": 10,
   "metadata": {},
   "outputs": [],
   "source": [
    "job_map = {\n",
    "    'Accounting': 'Accounting/Finance',\n",
    "    'Finance': 'Accounting/Finance',\n",
    "    'Audit': 'Audit and Financial/Business Controls',\n",
    "    'Financial Controls': 'Audit and Financial/Business Controls',\n",
    "    'Business Controls': 'Audit and Financial/Business Controls',\n",
    "    'Corporate Affairs': 'Corporate Affairs/Communications',\n",
    "    'Communications': 'Corporate Affairs/Communications',\n",
    "    'Customer Support': 'Customer Support/Operations',\n",
    "    'Customer Operations': 'Customer Support/Operations',\n",
    "    'General Management': 'General Management and Administration',\n",
    "    'Administration': 'General Management and Administration',\n",
    "    'Manufacturing': 'Manufacturing/Operations',\n",
    "    'Operations': 'Manufacturing/Operations',\n",
    "    'Project Management': 'Project/Program Management',\n",
    "    'Program Management': 'Project/Program Management',\n",
    "    'Supply Chain': 'Supply Chain and Logistics',\n",
    "    'Logistics': 'Supply Chain and Logistics',\n",
    "}"
   ]
  },
  {
   "cell_type": "code",
   "execution_count": 5,
   "metadata": {},
   "outputs": [
    {
     "name": "stdout",
     "output_type": "stream",
     "text": [
      "4862\n"
     ]
    },
    {
     "data": {
      "text/html": [
       "<div>\n",
       "<style scoped>\n",
       "    .dataframe tbody tr th:only-of-type {\n",
       "        vertical-align: middle;\n",
       "    }\n",
       "\n",
       "    .dataframe tbody tr th {\n",
       "        vertical-align: top;\n",
       "    }\n",
       "\n",
       "    .dataframe thead th {\n",
       "        text-align: right;\n",
       "    }\n",
       "</style>\n",
       "<table border=\"1\" class=\"dataframe\">\n",
       "  <thead>\n",
       "    <tr style=\"text-align: right;\">\n",
       "      <th></th>\n",
       "      <th>id</th>\n",
       "      <th>title</th>\n",
       "      <th>channel</th>\n",
       "      <th>published_year</th>\n",
       "      <th>published_month</th>\n",
       "      <th>length</th>\n",
       "      <th>view_count</th>\n",
       "      <th>url</th>\n",
       "      <th>description</th>\n",
       "      <th>skills</th>\n",
       "      <th>data_skills</th>\n",
       "    </tr>\n",
       "  </thead>\n",
       "  <tbody>\n",
       "    <tr>\n",
       "      <th>0</th>\n",
       "      <td>-T_l8TjAzXk</td>\n",
       "      <td>WHY LEARN TABLEAU? | Is Tableau worth learning...</td>\n",
       "      <td>Abhishek Agarrwal</td>\n",
       "      <td>2020.0</td>\n",
       "      <td>10.0</td>\n",
       "      <td>00:12:04</td>\n",
       "      <td>6634.0</td>\n",
       "      <td>https://www.youtube.com/watch?v=-T_l8TjAzXk</td>\n",
       "      <td>Many people who are a beginner and aspiring to...</td>\n",
       "      <td>Business Intelligence (BI); Business Intellige...</td>\n",
       "      <td>Tableau</td>\n",
       "    </tr>\n",
       "    <tr>\n",
       "      <th>1</th>\n",
       "      <td>0nH1ospwJd4</td>\n",
       "      <td>4 Quick Tips to Make an Engaging PowerPoint Pr...</td>\n",
       "      <td>ClassPoint</td>\n",
       "      <td>2020.0</td>\n",
       "      <td>10.0</td>\n",
       "      <td>00:09:36</td>\n",
       "      <td>5578.0</td>\n",
       "      <td>https://www.youtube.com/watch?v=0nH1ospwJd4</td>\n",
       "      <td>Here're 4 quick tips on how to make engaging P...</td>\n",
       "      <td>Animation; Microsoft PowerPoint; Presentation</td>\n",
       "      <td>Presentation Skill</td>\n",
       "    </tr>\n",
       "    <tr>\n",
       "      <th>2</th>\n",
       "      <td>1LHch7usbzY</td>\n",
       "      <td>Processing Covid-19 Data with Apache Spark</td>\n",
       "      <td>Manning Publications</td>\n",
       "      <td>2020.0</td>\n",
       "      <td>10.0</td>\n",
       "      <td>01:14:32</td>\n",
       "      <td>1056.0</td>\n",
       "      <td>https://www.youtube.com/watch?v=1LHch7usbzY</td>\n",
       "      <td>\"Spark in Action, Second Edition: Covers  Apac...</td>\n",
       "      <td>Apache Spark; Java; Processing; Python; Scala</td>\n",
       "      <td>SPARK; Java; Python Programming</td>\n",
       "    </tr>\n",
       "    <tr>\n",
       "      <th>3</th>\n",
       "      <td>2ViNp_UijMQ</td>\n",
       "      <td>Apache Spark with Scala By Example - learn Apa...</td>\n",
       "      <td>Petrina Corine</td>\n",
       "      <td>2020.0</td>\n",
       "      <td>10.0</td>\n",
       "      <td>00:03:46</td>\n",
       "      <td>5.0</td>\n",
       "      <td>https://www.youtube.com/watch?v=2ViNp_UijMQ</td>\n",
       "      <td>Learn  the fundamentals and run examplesof Spa...</td>\n",
       "      <td>Apache Spark; Dataset; Distributed Database; S...</td>\n",
       "      <td>SPARK</td>\n",
       "    </tr>\n",
       "    <tr>\n",
       "      <th>4</th>\n",
       "      <td>2sTeNU3nE3o</td>\n",
       "      <td>ETL explained in 5 Minutes</td>\n",
       "      <td>DaveSplains</td>\n",
       "      <td>2020.0</td>\n",
       "      <td>10.0</td>\n",
       "      <td>00:04:50</td>\n",
       "      <td>132.0</td>\n",
       "      <td>https://www.youtube.com/watch?v=2sTeNU3nE3o</td>\n",
       "      <td>The concept of  Extract Transform Load , or  E...</td>\n",
       "      <td>Extract Transform Load (ETL); Programming; Tra...</td>\n",
       "      <td>ETL</td>\n",
       "    </tr>\n",
       "  </tbody>\n",
       "</table>\n",
       "</div>"
      ],
      "text/plain": [
       "            id                                              title  \\\n",
       "0  -T_l8TjAzXk  WHY LEARN TABLEAU? | Is Tableau worth learning...   \n",
       "1  0nH1ospwJd4  4 Quick Tips to Make an Engaging PowerPoint Pr...   \n",
       "2  1LHch7usbzY         Processing Covid-19 Data with Apache Spark   \n",
       "3  2ViNp_UijMQ  Apache Spark with Scala By Example - learn Apa...   \n",
       "4  2sTeNU3nE3o                         ETL explained in 5 Minutes   \n",
       "\n",
       "                channel  published_year  published_month    length  \\\n",
       "0     Abhishek Agarrwal          2020.0             10.0  00:12:04   \n",
       "1            ClassPoint          2020.0             10.0  00:09:36   \n",
       "2  Manning Publications          2020.0             10.0  01:14:32   \n",
       "3        Petrina Corine          2020.0             10.0  00:03:46   \n",
       "4           DaveSplains          2020.0             10.0  00:04:50   \n",
       "\n",
       "   view_count                                          url  \\\n",
       "0      6634.0  https://www.youtube.com/watch?v=-T_l8TjAzXk   \n",
       "1      5578.0  https://www.youtube.com/watch?v=0nH1ospwJd4   \n",
       "2      1056.0  https://www.youtube.com/watch?v=1LHch7usbzY   \n",
       "3         5.0  https://www.youtube.com/watch?v=2ViNp_UijMQ   \n",
       "4       132.0  https://www.youtube.com/watch?v=2sTeNU3nE3o   \n",
       "\n",
       "                                         description  \\\n",
       "0  Many people who are a beginner and aspiring to...   \n",
       "1  Here're 4 quick tips on how to make engaging P...   \n",
       "2  \"Spark in Action, Second Edition: Covers  Apac...   \n",
       "3  Learn  the fundamentals and run examplesof Spa...   \n",
       "4  The concept of  Extract Transform Load , or  E...   \n",
       "\n",
       "                                              skills  \\\n",
       "0  Business Intelligence (BI); Business Intellige...   \n",
       "1      Animation; Microsoft PowerPoint; Presentation   \n",
       "2      Apache Spark; Java; Processing; Python; Scala   \n",
       "3  Apache Spark; Dataset; Distributed Database; S...   \n",
       "4  Extract Transform Load (ETL); Programming; Tra...   \n",
       "\n",
       "                       data_skills  \n",
       "0                          Tableau  \n",
       "1               Presentation Skill  \n",
       "2  SPARK; Java; Python Programming  \n",
       "3                            SPARK  \n",
       "4                              ETL  "
      ]
     },
     "execution_count": 5,
     "metadata": {},
     "output_type": "execute_result"
    }
   ],
   "source": [
    "df_yt = pd.read_sql_query('select * from \"ContentYoutube\"', engine)\n",
    "print(len(df_yt))\n",
    "df_yt.head()"
   ]
  },
  {
   "cell_type": "code",
   "execution_count": 20,
   "metadata": {},
   "outputs": [
    {
     "data": {
      "text/plain": [
       "355"
      ]
     },
     "execution_count": 20,
     "metadata": {},
     "output_type": "execute_result"
    }
   ],
   "source": [
    "for i, row in df_yt.iterrows():\n",
    "    has_job = []\n",
    "    title = desc = ''\n",
    "    if row['title'] != None:\n",
    "        title = row['title'].lower()\n",
    "    if row['description'] != None:\n",
    "        desc = row['description'].lower()\n",
    "    for job in jobs:\n",
    "        if job.lower() in title or job.lower() in desc:\n",
    "            has_job.append(job)\n",
    "    for j, m in job_map.items():\n",
    "        if j.lower() in title or j.lower() in desc:\n",
    "            has_job.append(m)\n",
    "    has_job = list(set(has_job))\n",
    "    df_yt.loc[i, 'jobs'] = '; '.join(has_job)\n",
    "\n",
    "len(df_yt.loc[df_yt['jobs'] != ''])"
   ]
  },
  {
   "cell_type": "code",
   "execution_count": 21,
   "metadata": {},
   "outputs": [
    {
     "data": {
      "text/plain": [
       "                                                   4507\n",
       "Training                                            203\n",
       "Accounting/Finance                                   44\n",
       "Marketing                                            26\n",
       "Sales                                                26\n",
       "Manufacturing/Operations                             25\n",
       "Audit and Financial/Business Controls                 5\n",
       "General Management and Administration                 4\n",
       "Corporate Affairs/Communications                      4\n",
       "Project/Program Management                            4\n",
       "Legal                                                 2\n",
       "Manufacturing/Operations; Training                    2\n",
       "Training; Accounting/Finance                          2\n",
       "Information Technology                                2\n",
       "Marketing; Corporate Affairs/Communications           1\n",
       "General Management and Administration; Training       1\n",
       "Sales; Training; Marketing                            1\n",
       "Supply Chain and Logistics                            1\n",
       "Sales; Marketing                                      1\n",
       "Human Resources                                       1\n",
       "Name: jobs, dtype: int64"
      ]
     },
     "execution_count": 21,
     "metadata": {},
     "output_type": "execute_result"
    }
   ],
   "source": [
    "df_yt['jobs'].value_counts()"
   ]
  },
  {
   "cell_type": "code",
   "execution_count": 32,
   "metadata": {},
   "outputs": [],
   "source": [
    "cols = ['id', 'title', 'channel', 'description', 'skills', 'jobs']\n",
    "df_yt.loc[df_yt['jobs'] != ''][cols].to_csv('youtube.csv', index=False)"
   ]
  },
  {
   "cell_type": "code",
   "execution_count": 22,
   "metadata": {},
   "outputs": [
    {
     "name": "stdout",
     "output_type": "stream",
     "text": [
      "11552\n"
     ]
    },
    {
     "data": {
      "text/html": [
       "<div>\n",
       "<style scoped>\n",
       "    .dataframe tbody tr th:only-of-type {\n",
       "        vertical-align: middle;\n",
       "    }\n",
       "\n",
       "    .dataframe tbody tr th {\n",
       "        vertical-align: top;\n",
       "    }\n",
       "\n",
       "    .dataframe thead th {\n",
       "        text-align: right;\n",
       "    }\n",
       "</style>\n",
       "<table border=\"1\" class=\"dataframe\">\n",
       "  <thead>\n",
       "    <tr style=\"text-align: right;\">\n",
       "      <th></th>\n",
       "      <th>id</th>\n",
       "      <th>title</th>\n",
       "      <th>subtitle</th>\n",
       "      <th>author</th>\n",
       "      <th>publication</th>\n",
       "      <th>published_date</th>\n",
       "      <th>read_time_mins</th>\n",
       "      <th>claps</th>\n",
       "      <th>url</th>\n",
       "      <th>skills</th>\n",
       "      <th>data_skills</th>\n",
       "    </tr>\n",
       "  </thead>\n",
       "  <tbody>\n",
       "    <tr>\n",
       "      <th>0</th>\n",
       "      <td>11b6ccd8cd54</td>\n",
       "      <td>Python Betting Model for Six Football Leagues</td>\n",
       "      <td>Using statistics, Pandas, BeautifulSoup and AW...</td>\n",
       "      <td>Liam Hartley</td>\n",
       "      <td>Python in Plain English</td>\n",
       "      <td>2021-01-01</td>\n",
       "      <td>8.0</td>\n",
       "      <td>100</td>\n",
       "      <td>https://python.plainenglish.io/python-betting-...</td>\n",
       "      <td>Amazon Web Service (AWS); Pandas; Python; Stat...</td>\n",
       "      <td>Python Programming; Statistics</td>\n",
       "    </tr>\n",
       "    <tr>\n",
       "      <th>1</th>\n",
       "      <td>184f9f16f632</td>\n",
       "      <td>Implementing VisualTtransformer in PyTorch</td>\n",
       "      <td>Hi guys, happy new year! Today we are going to...</td>\n",
       "      <td>Francesco Zuppichini</td>\n",
       "      <td>Towards Data Science</td>\n",
       "      <td>2021-01-01</td>\n",
       "      <td>6.0</td>\n",
       "      <td>214</td>\n",
       "      <td>https://towardsdatascience.com/implementing-vi...</td>\n",
       "      <td>PyTorch</td>\n",
       "      <td>None</td>\n",
       "    </tr>\n",
       "    <tr>\n",
       "      <th>2</th>\n",
       "      <td>19f9b76d43dc</td>\n",
       "      <td>Data Visualization using Python Part-I</td>\n",
       "      <td>Data visualization</td>\n",
       "      <td>Tanvi Penumudy</td>\n",
       "      <td>Analytics Vidhya</td>\n",
       "      <td>2021-01-01</td>\n",
       "      <td>5.0</td>\n",
       "      <td>408</td>\n",
       "      <td>https://medium.com/analytics-vidhya/data-visua...</td>\n",
       "      <td>Data Visualization; Python; Visualization</td>\n",
       "      <td>Python Programming; Visualizations</td>\n",
       "    </tr>\n",
       "    <tr>\n",
       "      <th>3</th>\n",
       "      <td>1de54e479279</td>\n",
       "      <td>Shakespeare versus Eminem— who’s the better ly...</td>\n",
       "      <td>He is known for his poetry, his writings on life…</td>\n",
       "      <td>Jeroen van Zeeland</td>\n",
       "      <td>Towards Data Science</td>\n",
       "      <td>2021-01-01</td>\n",
       "      <td>9.0</td>\n",
       "      <td>142</td>\n",
       "      <td>https://towardsdatascience.com/shakespeare-ver...</td>\n",
       "      <td>Writing</td>\n",
       "      <td>None</td>\n",
       "    </tr>\n",
       "    <tr>\n",
       "      <th>4</th>\n",
       "      <td>1f196b061192</td>\n",
       "      <td>How to utilize Feature Importance correctly</td>\n",
       "      <td>Feature Importance is a part of Feature select...</td>\n",
       "      <td>Nhu Hoang</td>\n",
       "      <td>Towards Data Science</td>\n",
       "      <td>2021-01-01</td>\n",
       "      <td>5.0</td>\n",
       "      <td>182</td>\n",
       "      <td>https://towardsdatascience.com/how-to-utilize-...</td>\n",
       "      <td>Feature Selection</td>\n",
       "      <td>None</td>\n",
       "    </tr>\n",
       "  </tbody>\n",
       "</table>\n",
       "</div>"
      ],
      "text/plain": [
       "             id                                              title  \\\n",
       "0  11b6ccd8cd54      Python Betting Model for Six Football Leagues   \n",
       "1  184f9f16f632         Implementing VisualTtransformer in PyTorch   \n",
       "2  19f9b76d43dc             Data Visualization using Python Part-I   \n",
       "3  1de54e479279  Shakespeare versus Eminem— who’s the better ly...   \n",
       "4  1f196b061192        How to utilize Feature Importance correctly   \n",
       "\n",
       "                                            subtitle                author  \\\n",
       "0  Using statistics, Pandas, BeautifulSoup and AW...          Liam Hartley   \n",
       "1  Hi guys, happy new year! Today we are going to...  Francesco Zuppichini   \n",
       "2                                Data visualization         Tanvi Penumudy   \n",
       "3  He is known for his poetry, his writings on life…    Jeroen van Zeeland   \n",
       "4  Feature Importance is a part of Feature select...             Nhu Hoang   \n",
       "\n",
       "               publication published_date  read_time_mins  claps  \\\n",
       "0  Python in Plain English     2021-01-01             8.0    100   \n",
       "1     Towards Data Science     2021-01-01             6.0    214   \n",
       "2         Analytics Vidhya     2021-01-01             5.0    408   \n",
       "3     Towards Data Science     2021-01-01             9.0    142   \n",
       "4     Towards Data Science     2021-01-01             5.0    182   \n",
       "\n",
       "                                                 url  \\\n",
       "0  https://python.plainenglish.io/python-betting-...   \n",
       "1  https://towardsdatascience.com/implementing-vi...   \n",
       "2  https://medium.com/analytics-vidhya/data-visua...   \n",
       "3  https://towardsdatascience.com/shakespeare-ver...   \n",
       "4  https://towardsdatascience.com/how-to-utilize-...   \n",
       "\n",
       "                                              skills  \\\n",
       "0  Amazon Web Service (AWS); Pandas; Python; Stat...   \n",
       "1                                            PyTorch   \n",
       "2          Data Visualization; Python; Visualization   \n",
       "3                                            Writing   \n",
       "4                                  Feature Selection   \n",
       "\n",
       "                          data_skills  \n",
       "0      Python Programming; Statistics  \n",
       "1                                None  \n",
       "2  Python Programming; Visualizations  \n",
       "3                                None  \n",
       "4                                None  "
      ]
     },
     "execution_count": 22,
     "metadata": {},
     "output_type": "execute_result"
    }
   ],
   "source": [
    "df_m = pd.read_sql_query('select * from \"ContentMedium\"', engine)\n",
    "print(len(df_m))\n",
    "df_m.head()"
   ]
  },
  {
   "cell_type": "code",
   "execution_count": 24,
   "metadata": {},
   "outputs": [
    {
     "data": {
      "text/plain": [
       "253"
      ]
     },
     "execution_count": 24,
     "metadata": {},
     "output_type": "execute_result"
    }
   ],
   "source": [
    "for i, row in df_m.iterrows():\n",
    "    has_job = []\n",
    "    title = desc = ''\n",
    "    if row['title'] != None:\n",
    "        title = row['title'].lower()\n",
    "    if row['subtitle'] != None:\n",
    "        desc = row['subtitle'].lower()\n",
    "    for job in jobs:\n",
    "        if job.lower() in title or job.lower() in desc:\n",
    "            has_job.append(job)\n",
    "    for j, m in job_map.items():\n",
    "        if j.lower() in title or j.lower() in desc:\n",
    "            has_job.append(m)\n",
    "    has_job = list(set(has_job))\n",
    "    df_m.loc[i, 'jobs'] = '; '.join(has_job)\n",
    "\n",
    "len(df_m.loc[df_m['jobs'] != ''])"
   ]
  },
  {
   "cell_type": "code",
   "execution_count": 26,
   "metadata": {},
   "outputs": [
    {
     "data": {
      "text/plain": [
       "                                         11299\n",
       "Training                                   104\n",
       "Manufacturing/Operations                    42\n",
       "Marketing                                   28\n",
       "Accounting/Finance                          24\n",
       "Sales                                       23\n",
       "Legal                                        7\n",
       "Supply Chain and Logistics                   5\n",
       "Sales; Marketing                             3\n",
       "Corporate Affairs/Communications             3\n",
       "Audit and Financial/Business Controls        2\n",
       "Risk Management                              2\n",
       "General Management and Administration        2\n",
       "Customer Support/Operations                  2\n",
       "Chemical Engineering                         2\n",
       "Civil Engineering                            1\n",
       "Project/Program Management                   1\n",
       "Business Development                         1\n",
       "Training; Marketing                          1\n",
       "Name: jobs, dtype: int64"
      ]
     },
     "execution_count": 26,
     "metadata": {},
     "output_type": "execute_result"
    }
   ],
   "source": [
    "df_m['jobs'].value_counts()"
   ]
  },
  {
   "cell_type": "code",
   "execution_count": 33,
   "metadata": {},
   "outputs": [],
   "source": [
    "cols = ['id', 'title', 'subtitle', 'author', 'skills', 'jobs']\n",
    "df_m.loc[df_m['jobs'] != ''][cols].to_csv('medium.csv', index=False)"
   ]
  },
  {
   "cell_type": "code",
   "execution_count": null,
   "metadata": {},
   "outputs": [],
   "source": []
  }
 ],
 "metadata": {
  "kernelspec": {
   "display_name": "Python 3",
   "language": "python",
   "name": "python3"
  },
  "language_info": {
   "codemirror_mode": {
    "name": "ipython",
    "version": 3
   },
   "file_extension": ".py",
   "mimetype": "text/x-python",
   "name": "python",
   "nbconvert_exporter": "python",
   "pygments_lexer": "ipython3",
   "version": "3.7.6"
  }
 },
 "nbformat": 4,
 "nbformat_minor": 4
}
