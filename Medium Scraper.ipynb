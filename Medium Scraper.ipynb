{
 "cells": [
  {
   "cell_type": "code",
   "execution_count": 69,
   "metadata": {},
   "outputs": [],
   "source": [
    "import requests\n",
    "import random\n",
    "import pandas as pd\n",
    "import re\n",
    "import json\n",
    "import datetime as dt\n",
    "import time\n",
    "from bs4 import BeautifulSoup\n",
    "from headers import headers_list\n",
    "from loading_bar import log_progress\n",
    "from data_skills import SKILLS, SKILL_DICT\n",
    "from skill_extraction import extract_skills, extract_ignore\n",
    "from secrets import api_keys"
   ]
  },
  {
   "cell_type": "code",
   "execution_count": 56,
   "metadata": {},
   "outputs": [
    {
     "data": {
      "text/plain": [
       "datetime.datetime(2020, 9, 29, 5, 35, 51, 809110)"
      ]
     },
     "execution_count": 56,
     "metadata": {},
     "output_type": "execute_result"
    }
   ],
   "source": [
    "BASE_URL = \"https://medium.com/tag/{}/archive/\"\n",
    "START_DATE = dt.datetime.now() - dt.timedelta(days=365.25)\n",
    "TAGS = ['data-science', 'machine-learning']\n",
    "START_DATE"
   ]
  },
  {
   "cell_type": "code",
   "execution_count": 61,
   "metadata": {},
   "outputs": [],
   "source": [
    "def get_id(card):\n",
    "    id_ = card.find('div', class_='postArticle postArticle--short js-postArticle js-trackPostPresentation js-trackPostScrolls')\n",
    "    if id_ is not None:\n",
    "        return id_['data-post-id']\n",
    "    return id_\n",
    "\n",
    "def get_title(card):\n",
    "    # Different combination of classes possible for titles\n",
    "    combinations = [('h3', 'graf graf--h3 graf-after--figure graf--title'),\n",
    "                    ('h3', 'graf graf--h3 graf-after--figure graf--trailing graf--title'),\n",
    "                    ('h4', 'graf graf--h4 graf--leading'),\n",
    "                    ('h3', 'graf graf--h3 graf--leading graf--title'),\n",
    "                    ('p', 'graf graf--p graf--leading'),\n",
    "                    ('h3', 'graf graf--h3 graf--startsWithDoubleQuote graf--leading graf--title'),\n",
    "                    ('h3', 'graf graf--h3 graf--startsWithDoubleQuote graf-after--figure graf--trailing graf--title')]\n",
    "    title = None\n",
    "    for combi in combinations:\n",
    "        title = card.find(combi[0], class_=combi[1])\n",
    "        if title is not None:\n",
    "            return title.text\n",
    "    return title\n",
    "\n",
    "def get_subtitle(card):\n",
    "    # Different combination of classes possible for subtitles\n",
    "    combinations = [('h4', 'graf graf--h4 graf-after--h3 graf--subtitle'),\n",
    "                    ('h4', 'graf graf--h4 graf-after--h3 graf--trailing graf--subtitle'),\n",
    "                    ('strong', 'markup--strong markup--p-strong'),\n",
    "                    ('h4', 'graf graf--p graf-after--h3 graf--trailing'),\n",
    "                    ('p', 'graf graf--p graf-after--h3 graf--trailing'),\n",
    "                    ('blockquote', 'graf graf--pullquote graf-after--figure graf--trailing'),\n",
    "                    ('p', 'graf graf--p graf-after--figure'),\n",
    "                    ('blockquote', 'graf graf--blockquote graf-after--h3 graf--trailing'),\n",
    "                    ('p', 'graf graf--p graf-after--figure graf--trailing'),\n",
    "                    ('em', 'markup--em markup--p-em'),\n",
    "                    ('p', 'graf graf--p graf-after--p graf--trailing')]\n",
    "    subtitle = None\n",
    "    for combi in combinations:\n",
    "        subtitle = card.find(combi[0], class_=combi[1])\n",
    "        if subtitle is not None:\n",
    "            return subtitle.text\n",
    "    return subtitle\n",
    "\n",
    "def get_author(card):\n",
    "    author = card.find('a', class_='ds-link ds-link--styleSubtle link link--darken link--accent u-accentColor--textNormal u-accentColor--textDarken')\n",
    "    if author is not None:\n",
    "        return author.text\n",
    "    return author\n",
    "\n",
    "def get_publication(card):\n",
    "    pub = card.find('a', class_='ds-link ds-link--styleSubtle link--darken link--accent u-accentColor--textNormal')\n",
    "    if pub is not None:\n",
    "        return pub.text\n",
    "    return pub\n",
    "\n",
    "def get_read_time(card):\n",
    "    time = card.find('span', class_='readingTime')\n",
    "    if time is not None:\n",
    "        time = time['title']\n",
    "        return time.replace(' min read', '')\n",
    "    return time\n",
    "\n",
    "def get_claps(card):\n",
    "    claps = card.find('button', class_='button button--chromeless u-baseColor--buttonNormal js-multirecommendCountButton u-disablePointerEvents')\n",
    "    if claps is not None:\n",
    "        return claps.text\n",
    "    return claps\n",
    "\n",
    "def is_comment(card):\n",
    "    # Check if card is a story or comment\n",
    "    comment = card.find('div', class_='u-fontSize14 u-marginTop10 u-marginBottom20 u-padding14 u-xs-padding12 u-borderRadius3 u-borderCardBackground u-borderLighterHover u-boxShadow1px4pxCardBorder')\n",
    "    return comment is not None\n",
    "\n",
    "def get_url(card):\n",
    "    url = card.find('a', class_='')\n",
    "    if url is not None:\n",
    "        return url['href']\n",
    "    return url\n",
    "\n",
    "def get_skills(title, subtitle):\n",
    "    context = title\n",
    "    if subtitle is not None:\n",
    "        context = context + ' ' + subtitle\n",
    "    all_skills = extract_skills(context)\n",
    "    keep_skills, _ = extract_ignore(all_skills)\n",
    "    keep_skills.sort()\n",
    "    if len(keep_skills) > 0:\n",
    "        return '; '.join(keep_skills)\n",
    "    else:\n",
    "        return None"
   ]
  },
  {
   "cell_type": "code",
   "execution_count": 62,
   "metadata": {},
   "outputs": [],
   "source": [
    "def get_posts(tag, date):\n",
    "    url = BASE_URL.format(tag) + date.strftime('%Y/%m/%d')\n",
    "    page = requests.get(url, headers=random.choice(headers_list))\n",
    "    soup = BeautifulSoup(page.content, 'html.parser')\n",
    "    # Pulls each card from the feed. Each card is a story or comment\n",
    "    cards = soup.find_all('div', class_='streamItem streamItem--postPreview js-streamItem')\n",
    "    card_list = []\n",
    "    for card in cards:\n",
    "        title = get_title(card)\n",
    "        subtitle = get_subtitle(card)\n",
    "        if title is None or is_comment(card):\n",
    "            continue\n",
    "        card_list.append({\n",
    "            'id': get_id(card),\n",
    "            'title': title,\n",
    "            'subtitle': subtitle,\n",
    "            'author': get_author(card),\n",
    "            'publication': get_publication(card),\n",
    "            'published_date': date,\n",
    "            'read_time_mins': get_read_time(card),\n",
    "            'claps': get_claps(card),\n",
    "            'url': get_url(card),\n",
    "            'skills': get_skills(title, subtitle)\n",
    "        })\n",
    "    df = pd.DataFrame.from_dict(card_list)\n",
    "    return df"
   ]
  },
  {
   "cell_type": "code",
   "execution_count": 71,
   "metadata": {},
   "outputs": [
    {
     "data": {
      "application/vnd.jupyter.widget-view+json": {
       "model_id": "80aeba9385dc448abfc116a77e27c601",
       "version_major": 2,
       "version_minor": 0
      },
      "text/plain": [
       "VBox(children=(HTML(value=''), IntProgress(value=0, max=269)))"
      ]
     },
     "metadata": {},
     "output_type": "display_data"
    }
   ],
   "source": [
    "tag = 'data-science'\n",
    "start_date = dt.datetime(2021, 1, 2)\n",
    "end_date = dt.datetime(2021, 9, 28)\n",
    "current_date = start_date\n",
    "\n",
    "for i in log_progress(range((end_date - start_date).days)):\n",
    "    df = get_posts(tag, current_date)\n",
    "    df.to_csv('results/medium_data_science.csv', index=False, mode='a', header=False)\n",
    "    current_date = current_date + dt.timedelta(days=1)\n",
    "    time.sleep(3)"
   ]
  },
  {
   "cell_type": "code",
   "execution_count": 73,
   "metadata": {},
   "outputs": [
    {
     "data": {
      "application/vnd.jupyter.widget-view+json": {
       "model_id": "2b8cdd50f6b34cf392775f71d2855080",
       "version_major": 2,
       "version_minor": 0
      },
      "text/plain": [
       "VBox(children=(HTML(value=''), IntProgress(value=0, max=269)))"
      ]
     },
     "metadata": {},
     "output_type": "display_data"
    }
   ],
   "source": [
    "tag = 'machine-learning'\n",
    "start_date = dt.datetime(2021, 1, 2)\n",
    "end_date = dt.datetime(2021, 9, 28)\n",
    "current_date = start_date\n",
    "\n",
    "for i in log_progress(range((end_date - start_date).days)):\n",
    "    df = get_posts(tag, current_date)\n",
    "    if i == 0:\n",
    "        df.to_csv('results/medium_machine_learning.csv', index=False)\n",
    "    else:\n",
    "        df.to_csv('results/medium_machine_learning.csv', index=False, mode='a', header=False)\n",
    "    current_date = current_date + dt.timedelta(days=1)\n",
    "    time.sleep(3)"
   ]
  },
  {
   "cell_type": "code",
   "execution_count": 79,
   "metadata": {},
   "outputs": [
    {
     "data": {
      "text/plain": [
       "(29947, 28479)"
      ]
     },
     "execution_count": 79,
     "metadata": {},
     "output_type": "execute_result"
    }
   ],
   "source": [
    "df_ds = pd.read_csv('results/medium_data_science.csv')\n",
    "df_ml = pd.read_csv('results/medium_machine_learning.csv')\n",
    "len(df_ds), len(df_ml)"
   ]
  },
  {
   "cell_type": "code",
   "execution_count": 87,
   "metadata": {},
   "outputs": [
    {
     "data": {
      "text/plain": [
       "58426"
      ]
     },
     "execution_count": 87,
     "metadata": {},
     "output_type": "execute_result"
    }
   ],
   "source": [
    "df = df_ds.append(df_ml)\n",
    "# df = df.drop_duplicates(subset=['id', 'title'])\n",
    "len(df)"
   ]
  },
  {
   "cell_type": "code",
   "execution_count": 89,
   "metadata": {},
   "outputs": [
    {
     "data": {
      "text/plain": [
       "(47148, 45880, 57914)"
      ]
     },
     "execution_count": 89,
     "metadata": {},
     "output_type": "execute_result"
    }
   ],
   "source": [
    "len(df['id'].unique()), len(df['title'].unique()), len(df['url'].unique())"
   ]
  },
  {
   "cell_type": "code",
   "execution_count": 111,
   "metadata": {},
   "outputs": [],
   "source": [
    "df = df.drop_duplicates(subset=['id'])\n",
    "df = df.sort_values(by=['published_date', 'id'])\n",
    "df.to_csv('results/medium.csv', index=False)"
   ]
  },
  {
   "cell_type": "code",
   "execution_count": null,
   "metadata": {},
   "outputs": [],
   "source": []
  }
 ],
 "metadata": {
  "kernelspec": {
   "display_name": "Python 3",
   "language": "python",
   "name": "python3"
  },
  "language_info": {
   "codemirror_mode": {
    "name": "ipython",
    "version": 3
   },
   "file_extension": ".py",
   "mimetype": "text/x-python",
   "name": "python",
   "nbconvert_exporter": "python",
   "pygments_lexer": "ipython3",
   "version": "3.7.6"
  }
 },
 "nbformat": 4,
 "nbformat_minor": 4
}
