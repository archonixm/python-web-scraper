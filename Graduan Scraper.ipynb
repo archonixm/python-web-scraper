{
 "cells": [
  {
   "cell_type": "code",
   "execution_count": 1,
   "metadata": {},
   "outputs": [],
   "source": [
    "import requests\n",
    "import random\n",
    "import pandas as pd\n",
    "from bs4 import BeautifulSoup\n",
    "from headers import headers_list\n",
    "from loading_bar import log_progress"
   ]
  },
  {
   "cell_type": "code",
   "execution_count": 2,
   "metadata": {},
   "outputs": [
    {
     "data": {
      "text/plain": [
       "'https://graduan.com/accenture'"
      ]
     },
     "execution_count": 2,
     "metadata": {},
     "output_type": "execute_result"
    }
   ],
   "source": [
    "url = 'https://graduan.com/accenture'\n",
    "url"
   ]
  },
  {
   "cell_type": "code",
   "execution_count": 42,
   "metadata": {},
   "outputs": [],
   "source": [
    "def get_company_info(url):\n",
    "    company = {}\n",
    "    page = requests.get(url, headers=random.choice(headers_list))\n",
    "    soup = BeautifulSoup(page.content, 'html.parser')\n",
    "    info = soup.find('div', class_='small-section')\n",
    "    for div in info.findAll('div'):\n",
    "        head = div.find('h4')\n",
    "        if head is not None:\n",
    "            a = div.find('a')\n",
    "            if a is not None:\n",
    "                body = a['href'].strip('\\n')\n",
    "            else:\n",
    "                body = div.text.replace(head.text, '').strip('\\n')\n",
    "            company[head.text] = body\n",
    "    return company"
   ]
  },
  {
   "cell_type": "code",
   "execution_count": 43,
   "metadata": {},
   "outputs": [
    {
     "data": {
      "text/plain": [
       "{'Contact Number': 'tel:03 2088 4000',\n",
       " 'Fax No.': '03 20887000',\n",
       " 'Email': '/cdn-cgi/l/email-protection#5e192c312909372a360b2d1e3f3d3d3b302a2b2c3b703d3133',\n",
       " 'Address': 'Level 30 Menara Exchange 106, Lingkaran TRX Tun Razak Exchange, 55188 Kuala Lumpur.'}"
      ]
     },
     "execution_count": 43,
     "metadata": {},
     "output_type": "execute_result"
    }
   ],
   "source": [
    "get_company_info(url)"
   ]
  },
  {
   "cell_type": "code",
   "execution_count": null,
   "metadata": {},
   "outputs": [],
   "source": []
  },
  {
   "cell_type": "code",
   "execution_count": 15,
   "metadata": {},
   "outputs": [],
   "source": [
    "def decode_email(e):\n",
    "    de = \"\"\n",
    "    k = int(e[:2], 16)\n",
    "    for i in range(2, len(e)-1, 2):\n",
    "        de += chr(int(e[i:i+2], 16)^k)\n",
    "    return de"
   ]
  },
  {
   "cell_type": "code",
   "execution_count": 29,
   "metadata": {},
   "outputs": [
    {
     "data": {
      "text/plain": [
       "'GrowWithUs@accenture.com'"
      ]
     },
     "execution_count": 29,
     "metadata": {},
     "output_type": "execute_result"
    }
   ],
   "source": [
    "decode_email('a1e6d3ced6f6c8d5c9f4d2e1c0c2c2c4cfd5d4d3c48fc2cecc')"
   ]
  },
  {
   "cell_type": "code",
   "execution_count": null,
   "metadata": {},
   "outputs": [],
   "source": []
  }
 ],
 "metadata": {
  "kernelspec": {
   "display_name": "Python 3",
   "language": "python",
   "name": "python3"
  },
  "language_info": {
   "codemirror_mode": {
    "name": "ipython",
    "version": 3
   },
   "file_extension": ".py",
   "mimetype": "text/x-python",
   "name": "python",
   "nbconvert_exporter": "python",
   "pygments_lexer": "ipython3",
   "version": "3.7.6"
  }
 },
 "nbformat": 4,
 "nbformat_minor": 4
}
